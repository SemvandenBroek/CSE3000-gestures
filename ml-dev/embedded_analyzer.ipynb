{
 "cells": [
  {
   "cell_type": "code",
   "execution_count": 1,
   "outputs": [
    {
     "ename": "ImportError",
     "evalue": "cannot import name 'to_categorical' from 'keras.utils' (C:\\Users\\Sem\\Documents\\VSCodeProjects\\cse3000-gestures\\venv\\lib\\site-packages\\keras\\utils\\__init__.py)",
     "output_type": "error",
     "traceback": [
      "\u001B[1;31m---------------------------------------------------------------------------\u001B[0m",
      "\u001B[1;31mImportError\u001B[0m                               Traceback (most recent call last)",
      "Cell \u001B[1;32mIn[1], line 5\u001B[0m\n\u001B[0;32m      3\u001B[0m \u001B[38;5;28;01mimport\u001B[39;00m \u001B[38;5;21;01mtensorflow\u001B[39;00m \u001B[38;5;28;01mas\u001B[39;00m \u001B[38;5;21;01mtf\u001B[39;00m\n\u001B[0;32m      4\u001B[0m \u001B[38;5;28;01mimport\u001B[39;00m \u001B[38;5;21;01mkeras\u001B[39;00m\n\u001B[1;32m----> 5\u001B[0m \u001B[38;5;28;01mfrom\u001B[39;00m \u001B[38;5;21;01mutils\u001B[39;00m \u001B[38;5;28;01mimport\u001B[39;00m Gestures\n\u001B[0;32m      7\u001B[0m \u001B[38;5;28mprint\u001B[39m(tf\u001B[38;5;241m.\u001B[39m__version__)\n",
      "File \u001B[1;32m~\\Documents\\VSCodeProjects\\cse3000-gestures\\ml-dev\\utils.py:9\u001B[0m\n\u001B[0;32m      6\u001B[0m \u001B[38;5;28;01mimport\u001B[39;00m \u001B[38;5;21;01mtensorflow\u001B[39;00m \u001B[38;5;28;01mas\u001B[39;00m \u001B[38;5;21;01mtf\u001B[39;00m\n\u001B[0;32m      7\u001B[0m \u001B[38;5;28;01mimport\u001B[39;00m \u001B[38;5;21;01mkeras\u001B[39;00m\n\u001B[1;32m----> 9\u001B[0m \u001B[38;5;28;01mfrom\u001B[39;00m \u001B[38;5;21;01mkeras\u001B[39;00m\u001B[38;5;21;01m.\u001B[39;00m\u001B[38;5;21;01mutils\u001B[39;00m \u001B[38;5;28;01mimport\u001B[39;00m to_categorical\n\u001B[0;32m     10\u001B[0m \u001B[38;5;28;01mfrom\u001B[39;00m \u001B[38;5;21;01mkeras\u001B[39;00m\u001B[38;5;21;01m.\u001B[39;00m\u001B[38;5;21;01mcallbacks\u001B[39;00m \u001B[38;5;28;01mimport\u001B[39;00m EarlyStopping\n\u001B[0;32m     11\u001B[0m \u001B[38;5;28;01mimport\u001B[39;00m \u001B[38;5;21;01mlogging\u001B[39;00m\n",
      "\u001B[1;31mImportError\u001B[0m: cannot import name 'to_categorical' from 'keras.utils' (C:\\Users\\Sem\\Documents\\VSCodeProjects\\cse3000-gestures\\venv\\lib\\site-packages\\keras\\utils\\__init__.py)"
     ]
    }
   ],
   "source": [
    "import numpy as np\n",
    "import matplotlib.pyplot as plt\n",
    "import tensorflow as tf\n",
    "import keras\n",
    "from utils import Gestures\n",
    "\n",
    "print(tf.__version__)"
   ],
   "metadata": {
    "collapsed": false,
    "ExecuteTime": {
     "end_time": "2023-06-23T09:42:12.696635Z",
     "start_time": "2023-06-23T09:42:10.828142300Z"
    }
   }
  },
  {
   "cell_type": "code",
   "execution_count": null,
   "metadata": {
    "collapsed": true
   },
   "outputs": [],
   "source": [
    "# Copy paste from serial connection\n",
    "array = [0.95, 0.98, 0.85, 0.95, 0.97, 0.85, 0.95, 0.98, 0.84, 0.96, 0.98, 0.84, 0.96, 0.97, 0.84, 0.95, 0.98, 0.85, 0.95, 0.98, 0.83, 0.96, 0.98, 0.85, 0.95, 0.95, 0.85, 0.96, 0.98, 0.84, 0.95, 0.96, 0.84, 0.95, 0.98, 0.84, 0.95, 0.97, 0.84, 0.95, 0.98, 0.84, 0.95, 0.99, 0.86, 0.96, 0.99, 0.85, 0.96, 0.98, 0.85, 0.95, 0.99, 0.85, 0.96, 0.99, 0.85, 0.96, 0.99, 0.85, 0.96, 0.99, 0.85, 0.96, 0.98, 0.86, 0.96, 1.00, 0.85, 0.97, 0.99, 0.86, 0.96, 0.99, 0.85, 0.96, 0.99, 0.85, 0.96, 0.98, 0.85, 0.96, 0.98, 0.85, 0.96, 0.99, 0.85, 0.96, 0.98, 0.85, 0.95, 0.98, 0.85, 0.96, 0.97, 0.85, 0.96, 0.98, 0.84, 0.94, 0.98, 0.84, 0.94, 0.97, 0.82, 0.93, 0.96, 0.81, 0.92, 0.96, 0.81, 0.92, 0.94, 0.79, 0.92, 0.93, 0.80, 0.92, 0.94, 0.80, 0.92, 0.94, 0.79, 0.92, 0.93, 0.80, 0.91, 0.93, 0.79, 0.92, 0.93, 0.79, 0.92, 0.93, 0.78, 0.91, 0.92, 0.77, 0.91, 0.91, 0.76, 0.90, 0.88, 0.77, 0.88, 0.88, 0.75, 0.88, 0.86, 0.74, 0.86, 0.86, 0.72, 0.84, 0.82, 0.70, 0.81, 0.78, 0.68, 0.78, 0.73, 0.62, 0.72, 0.66, 0.55, 0.65, 0.57, 0.47, 0.57, 0.46, 0.34, 0.52, 0.39, 0.16, 0.50, 0.37, 0.11, 0.54, 0.41, 0.24, 0.59, 0.48, 0.38, 0.62, 0.55, 0.46, 0.68, 0.61, 0.52, 0.70, 0.65, 0.56, 0.72, 0.66, 0.58, 0.73, 0.67, 0.59, 0.69, 0.63, 0.56, 0.65, 0.59, 0.50, 0.58, 0.52, 0.42, 0.50, 0.37, 0.21, 0.42, 0.25, 0.04, 0.42, 0.27, 0.00, 0.48, 0.36, 0.18, 0.56, 0.48, 0.36, 0.64, 0.58, 0.47, 0.71, 0.65, 0.54, 0.75, 0.71, 0.61, 0.80, 0.77, 0.64, 0.84, 0.79, 0.69, 0.85, 0.84, 0.72, 0.87, 0.86, 0.74, 0.90, 0.88, 0.76, 0.91, 0.90, 0.77, 0.90, 0.91, 0.77, 0.91, 0.92, 0.80, 0.92, 0.92, 0.80, 0.92, 0.94, 0.81, 0.92, 0.94, 0.80, 0.93, 0.94, 0.80, 0.92, 0.95, 0.82, 0.92, 0.94, 0.81, 0.92, 0.93, 0.81, 0.93, 0.94, 0.81, 0.92, 0.95, 0.82, 0.92, 0.94, 0.82, 0.92, 0.96, 0.82, 0.93, 0.95, 0.82, 0.92, 0.96, 0.82, 0.92, 0.94, 0.82, 0.92, 0.95, 0.83,\n",
    "]\n",
    "\n",
    "shaped_array = np.array(array, dtype=np.float32).reshape((100, 3))\n",
    "int_array = np.array(shaped_array * 255, dtype=np.uint8)"
   ]
  },
  {
   "cell_type": "code",
   "execution_count": null,
   "outputs": [],
   "source": [
    "plt.plot(shaped_array)\n",
    "plt.show()"
   ],
   "metadata": {
    "collapsed": false
   }
  },
  {
   "cell_type": "code",
   "execution_count": null,
   "outputs": [],
   "source": [
    "model_name = \"conv_lstm_16\"\n",
    "model = keras.models.load_model(f'../models/{model_name}/tf')\n",
    "x = np.expand_dims(shaped_array, axis=0)\n",
    "\n",
    "output = model.predict(x)\n",
    "print(output)\n",
    "print(\"So the answer is %d or '%s'\" % (np.argmax(output), Gestures(np.argmax(output))))"
   ],
   "metadata": {
    "collapsed": false
   }
  },
  {
   "cell_type": "code",
   "execution_count": null,
   "outputs": [],
   "source": [
    "# Quantized test\n",
    "tflite_test = tf.lite.Interpreter(f'../models/{model_name}/{model_name}_quantized.tflite')\n",
    "tflite_test.allocate_tensors()\n",
    "print(tflite_test.get_input_details()[0]['shape'])\n",
    "\n",
    "input_index = tflite_test.get_input_details()[0][\"index\"]\n",
    "output_index = tflite_test.get_output_details()[0][\"index\"]\n",
    "\n",
    "tensor = tf.convert_to_tensor([shaped_array], dtype=np.float32)\n",
    "tflite_test.set_tensor(input_index, tensor)\n",
    "tflite_test.invoke()\n",
    "\n",
    "output = tflite_test.get_tensor(output_index)\n",
    "print(output)\n",
    "print(\"So the answer is %d or '%s'\" % (np.argmax(output), Gestures(np.argmax(output))))"
   ],
   "metadata": {
    "collapsed": false
   }
  },
  {
   "cell_type": "code",
   "execution_count": null,
   "outputs": [],
   "source": [
    "# tflite_test.reset_all_variables()\n",
    "tflite_test.invoke()\n",
    "\n",
    "output = tflite_test.get_tensor(output_index)\n",
    "print(output)\n",
    "print(\"So the answer is %d or '%s'\" % (np.argmax(output), Gestures(np.argmax(output))))"
   ],
   "metadata": {
    "collapsed": false
   }
  },
  {
   "cell_type": "code",
   "execution_count": null,
   "outputs": [],
   "source": [],
   "metadata": {
    "collapsed": false
   }
  }
 ],
 "metadata": {
  "kernelspec": {
   "display_name": "Python 3",
   "language": "python",
   "name": "python3"
  },
  "language_info": {
   "codemirror_mode": {
    "name": "ipython",
    "version": 2
   },
   "file_extension": ".py",
   "mimetype": "text/x-python",
   "name": "python",
   "nbconvert_exporter": "python",
   "pygments_lexer": "ipython2",
   "version": "2.7.6"
  }
 },
 "nbformat": 4,
 "nbformat_minor": 0
}
