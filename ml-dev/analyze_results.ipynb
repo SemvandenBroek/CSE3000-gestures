{
 "cells": [
  {
   "cell_type": "code",
   "execution_count": 25,
   "metadata": {
    "collapsed": true,
    "ExecuteTime": {
     "end_time": "2023-06-21T17:52:11.870719600Z",
     "start_time": "2023-06-21T17:52:11.853619500Z"
    }
   },
   "outputs": [],
   "source": [
    "import pickle\n",
    "import os\n",
    "import numpy as np\n",
    "from utils import Fold, Gestures\n",
    "import matplotlib.pyplot as plt\n",
    "from sklearn.metrics import confusion_matrix, ConfusionMatrixDisplay"
   ]
  },
  {
   "cell_type": "code",
   "execution_count": 26,
   "outputs": [],
   "source": [
    "\n",
    "def load_pickle(basepath, name):\n",
    "    save_path = os.path.join(basepath, name)\n",
    "\n",
    "    with open(save_path, 'rb') as file:\n",
    "        dictionary = pickle.load(file)\n",
    "        return dictionary\n",
    "\n",
    "def display_results(data: dict):\n",
    "    for model_type in data:\n",
    "        print(\"%s results using %d iterations:\" % (model_type, conv_lstm.get(model_type).get('iterations')))\n",
    "        sorted_folds = list(conv_lstm.get(model_type).get('folds').keys())\n",
    "        sorted_folds.sort(key=lambda x: x.value)\n",
    "        for fold in sorted_folds:\n",
    "            print(\"\\t%d-fold results:\" % fold.value)\n",
    "            fold_results = conv_lstm.get(model_type).get('folds').get(fold)\n",
    "\n",
    "            acc_per_fold = np.array(list(map(lambda x: x['acc_per_fold'], fold_results)))\n",
    "            loss_per_fold = np.array(list(map(lambda x: x['loss_per_fold'], fold_results)))\n",
    "            print(\"\\t\\tIndividual accuracies:\")\n",
    "            for acc in acc_per_fold:\n",
    "                print(\"\\t\\t%.3f\" % acc.mean(), end='')\n",
    "            acc_per_fold = acc_per_fold.flatten()\n",
    "            loss_per_fold = loss_per_fold.flatten()\n",
    "            print(\"\\n\\t\\tOverall acc: %.2f Std: %.2f\" % (acc_per_fold.mean(), acc_per_fold.std()))\n",
    "            print(\"\\t\\tOverall loss: %.2f\" % loss_per_fold.mean())\n",
    "\n",
    "\n",
    "def draw_conf_matrix(confusions, base_path: str, name: str):\n",
    "    reshaped = confusions.reshape(confusions.shape[0] * confusions.shape[1], 10, 10)\n",
    "\n",
    "    overall_confusion = np.zeros((reshaped.shape[1], reshaped.shape[2]))\n",
    "    for conf in reshaped:\n",
    "        overall_confusion = np.add(overall_confusion, conf)\n",
    "\n",
    "    # Normalize predictions\n",
    "    normalized_confusion = overall_confusion / overall_confusion.sum(axis=1, keepdims=1)\n",
    "    normalized_confusion = normalized_confusion.round(decimals=2)\n",
    "\n",
    "    save_path = os.path.join(base_path, f\"{name.replace(' ', '_')}.svg\")\n",
    "    if not os.path.exists(base_path):\n",
    "        os.mkdir(base_path)\n",
    "\n",
    "    ConfusionMatrixDisplay(normalized_confusion, display_labels=Gestures).plot(cmap='Blues', xticks_rotation='vertical')\n",
    "    plt.title(name)\n",
    "    plt.savefig(save_path, bbox_inches=\"tight\")\n",
    "\n",
    "    plt.show()"
   ],
   "metadata": {
    "collapsed": false,
    "ExecuteTime": {
     "end_time": "2023-06-21T17:52:11.885729300Z",
     "start_time": "2023-06-21T17:52:11.867719700Z"
    }
   }
  },
  {
   "cell_type": "code",
   "execution_count": 27,
   "outputs": [
    {
     "name": "stdout",
     "output_type": "stream",
     "text": [
      "ConvLSTM 16 results using 3 iterations:\n",
      "\t5-fold results:\n",
      "\t\tIndividual accuracies:\n",
      "\t\t65.624\t\t64.478\t\t67.240\n",
      "\t\tOverall acc: 65.78 Std: 4.22\n",
      "\t\tOverall loss: 1.09\n",
      "\t10-fold results:\n",
      "\t\tIndividual accuracies:\n",
      "\t\t67.322\t\t67.897\t\t66.715\n",
      "\t\tOverall acc: 67.31 Std: 5.54\n",
      "\t\tOverall loss: 1.05\n",
      "ConvLSTM 32 results using 3 iterations:\n",
      "\t5-fold results:\n",
      "\t\tIndividual accuracies:\n",
      "\t\t69.084\t\t68.828\t\t70.179\n",
      "\t\tOverall acc: 69.36 Std: 3.19\n",
      "\t\tOverall loss: 1.12\n",
      "\t10-fold results:\n",
      "\t\tIndividual accuracies:\n",
      "\t\t69.533\t\t69.305\t\t70.132\n",
      "\t\tOverall acc: 69.66 Std: 5.06\n",
      "\t\tOverall loss: 1.06\n",
      "ConvLSTM 64 results using 3 iterations:\n",
      "\t5-fold results:\n",
      "\t\tIndividual accuracies:\n",
      "\t\t70.107\t\t69.969\t\t71.198\n",
      "\t\tOverall acc: 70.42 Std: 3.95\n",
      "\t\tOverall loss: 1.29\n",
      "\t10-fold results:\n",
      "\t\tIndividual accuracies:\n",
      "\t\t70.358\t\t69.387\t\t70.206\n",
      "\t\tOverall acc: 69.98 Std: 5.81\n",
      "\t\tOverall loss: 1.32\n",
      "ConvLSTM 128 results using 3 iterations:\n",
      "\t5-fold results:\n",
      "\t\tIndividual accuracies:\n",
      "\t\t70.538\t\t69.873\t\t70.156\n",
      "\t\tOverall acc: 70.19 Std: 3.05\n",
      "\t\tOverall loss: 1.52\n",
      "\t10-fold results:\n",
      "\t\tIndividual accuracies:\n",
      "\t\t71.594\t\t70.800\t\t69.761\n",
      "\t\tOverall acc: 70.72 Std: 5.48\n",
      "\t\tOverall loss: 1.48\n"
     ]
    }
   ],
   "source": [
    "# Analyze accuracies\n",
    "conv_lstm = load_pickle('../results', 'conv_lstm.pickle')\n",
    "display_results(conv_lstm)"
   ],
   "metadata": {
    "collapsed": false,
    "ExecuteTime": {
     "end_time": "2023-06-21T17:52:11.896727100Z",
     "start_time": "2023-06-21T17:52:11.880727500Z"
    }
   }
  },
  {
   "cell_type": "code",
   "execution_count": 28,
   "outputs": [
    {
     "ename": "AttributeError",
     "evalue": "'NoneType' object has no attribute 'get'",
     "output_type": "error",
     "traceback": [
      "\u001B[1;31m---------------------------------------------------------------------------\u001B[0m",
      "\u001B[1;31mAttributeError\u001B[0m                            Traceback (most recent call last)",
      "Cell \u001B[1;32mIn[28], line 3\u001B[0m\n\u001B[0;32m      1\u001B[0m \u001B[38;5;66;03m# Analyze accuracies\u001B[39;00m\n\u001B[0;32m      2\u001B[0m lstm \u001B[38;5;241m=\u001B[39m load_pickle(\u001B[38;5;124m'\u001B[39m\u001B[38;5;124m../results\u001B[39m\u001B[38;5;124m'\u001B[39m, \u001B[38;5;124m'\u001B[39m\u001B[38;5;124mlstm.pickle\u001B[39m\u001B[38;5;124m'\u001B[39m)\n\u001B[1;32m----> 3\u001B[0m \u001B[43mdisplay_results\u001B[49m\u001B[43m(\u001B[49m\u001B[43mlstm\u001B[49m\u001B[43m)\u001B[49m\n",
      "Cell \u001B[1;32mIn[26], line 10\u001B[0m, in \u001B[0;36mdisplay_results\u001B[1;34m(data)\u001B[0m\n\u001B[0;32m      8\u001B[0m \u001B[38;5;28;01mdef\u001B[39;00m \u001B[38;5;21mdisplay_results\u001B[39m(data: \u001B[38;5;28mdict\u001B[39m):\n\u001B[0;32m      9\u001B[0m     \u001B[38;5;28;01mfor\u001B[39;00m model_type \u001B[38;5;129;01min\u001B[39;00m data:\n\u001B[1;32m---> 10\u001B[0m         \u001B[38;5;28mprint\u001B[39m(\u001B[38;5;124m\"\u001B[39m\u001B[38;5;132;01m%s\u001B[39;00m\u001B[38;5;124m results using \u001B[39m\u001B[38;5;132;01m%d\u001B[39;00m\u001B[38;5;124m iterations:\u001B[39m\u001B[38;5;124m\"\u001B[39m \u001B[38;5;241m%\u001B[39m (model_type, \u001B[43mconv_lstm\u001B[49m\u001B[38;5;241;43m.\u001B[39;49m\u001B[43mget\u001B[49m\u001B[43m(\u001B[49m\u001B[43mmodel_type\u001B[49m\u001B[43m)\u001B[49m\u001B[38;5;241;43m.\u001B[39;49m\u001B[43mget\u001B[49m(\u001B[38;5;124m'\u001B[39m\u001B[38;5;124miterations\u001B[39m\u001B[38;5;124m'\u001B[39m)))\n\u001B[0;32m     11\u001B[0m         sorted_folds \u001B[38;5;241m=\u001B[39m \u001B[38;5;28mlist\u001B[39m(conv_lstm\u001B[38;5;241m.\u001B[39mget(model_type)\u001B[38;5;241m.\u001B[39mget(\u001B[38;5;124m'\u001B[39m\u001B[38;5;124mfolds\u001B[39m\u001B[38;5;124m'\u001B[39m)\u001B[38;5;241m.\u001B[39mkeys())\n\u001B[0;32m     12\u001B[0m         sorted_folds\u001B[38;5;241m.\u001B[39msort(key\u001B[38;5;241m=\u001B[39m\u001B[38;5;28;01mlambda\u001B[39;00m x: x\u001B[38;5;241m.\u001B[39mvalue)\n",
      "\u001B[1;31mAttributeError\u001B[0m: 'NoneType' object has no attribute 'get'"
     ]
    }
   ],
   "source": [
    "# Analyze accuracies\n",
    "lstm = load_pickle('../results', 'lstm.pickle')\n",
    "display_results(lstm)"
   ],
   "metadata": {
    "collapsed": false,
    "ExecuteTime": {
     "end_time": "2023-06-21T17:52:11.956300900Z",
     "start_time": "2023-06-21T17:52:11.896727100Z"
    }
   }
  },
  {
   "cell_type": "code",
   "execution_count": null,
   "outputs": [],
   "source": [
    "conv_lstm = load_pickle('../results', 'conv_lstm_new.pickle')\n",
    "fold_ten = conv_lstm.get('ConvLSTM 64').get('folds').get(Fold.TEN)\n",
    "\n",
    "confusions = np.array(list(map(lambda x: x['confusion_per_fold'], fold_ten)))\n",
    "draw_conf_matrix(confusions, '../results/figs/', \"Confusion Matrix ConvLSTM 64-unit\")"
   ],
   "metadata": {
    "collapsed": false,
    "ExecuteTime": {
     "start_time": "2023-06-21T17:52:11.941116100Z"
    }
   }
  },
  {
   "cell_type": "code",
   "execution_count": null,
   "outputs": [],
   "source": [
    "# Analyze file sizes\n",
    "base = '../models'\n",
    "for model in os.listdir(base):\n",
    "    print(model)\n",
    "    path = os.path.join(base, model)\n",
    "    tflite_size = os.path.getsize(os.path.join(path, f\"{model}.tflite\"))\n",
    "    tflite_quantized_size = os.path.getsize(os.path.join(path, f\"{model}_quantized.tflite\"))\n",
    "    print(\"\\tNormal size: %d bytes (%.1f Kb)\\n\\tQuantized size: %d bytes (%.1f Kb)\" % (tflite_size, round(float(tflite_size / 1000), 1), tflite_quantized_size, round(float(tflite_quantized_size / 1000), 1)))"
   ],
   "metadata": {
    "collapsed": false,
    "ExecuteTime": {
     "start_time": "2023-06-21T17:52:11.941116100Z"
    }
   }
  }
 ],
 "metadata": {
  "kernelspec": {
   "display_name": "Python 3",
   "language": "python",
   "name": "python3"
  },
  "language_info": {
   "codemirror_mode": {
    "name": "ipython",
    "version": 2
   },
   "file_extension": ".py",
   "mimetype": "text/x-python",
   "name": "python",
   "nbconvert_exporter": "python",
   "pygments_lexer": "ipython2",
   "version": "2.7.6"
  }
 },
 "nbformat": 4,
 "nbformat_minor": 0
}
