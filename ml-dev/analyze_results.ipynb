{
 "cells": [
  {
   "cell_type": "code",
   "execution_count": 41,
   "metadata": {
    "collapsed": true,
    "ExecuteTime": {
     "end_time": "2023-06-20T22:23:28.226958200Z",
     "start_time": "2023-06-20T22:23:28.212934Z"
    }
   },
   "outputs": [],
   "source": [
    "import pickle\n",
    "import os\n",
    "\n",
    "import numpy as np\n",
    "\n",
    "\n",
    "def load_pickle(basepath, name):\n",
    "    save_path = os.path.join(basepath, name)\n",
    "\n",
    "    with open(save_path, 'rb') as file:\n",
    "        dictionary = pickle.load(file)\n",
    "        return dictionary\n",
    "\n",
    "def display_results(data):\n",
    "    for model_type in data:\n",
    "        print(\"%s results using %d iterations:\" % (model_type, conv_lstm.get(model_type).get('iterations')))\n",
    "        for fold in conv_lstm.get(model_type).get('folds'):\n",
    "            print(\"\\t%d-fold results:\" % fold.value)\n",
    "            fold_results = conv_lstm.get(model_type).get('folds').get(fold)\n",
    "\n",
    "            acc_per_fold = np.array(list(map(lambda x: x['acc_per_fold'], fold_results)))\n",
    "            print(\"\\t\\tIndividual accuracies:\")\n",
    "            for acc in acc_per_fold:\n",
    "                print(\"\\t\\t%.3f\" % acc.mean(), end='')\n",
    "            acc_per_fold = acc_per_fold.flatten()\n",
    "            print(\"\\n\\t\\tOverall acc: %.3f Std: %.3f\" % (acc_per_fold.mean(), acc_per_fold.std()))"
   ]
  },
  {
   "cell_type": "code",
   "execution_count": 42,
   "outputs": [
    {
     "name": "stdout",
     "output_type": "stream",
     "text": [
      "ConvLSTM 16 results using 3 iterations:\n",
      "\t5-fold results:\n",
      "\t\tIndividual accuracies:\n",
      "\t\t65.624\t\t64.478\t\t67.240\n",
      "\t\tOverall acc: 65.781 Std: 4.225\n",
      "ConvLSTM 32 results using 3 iterations:\n",
      "\t5-fold results:\n",
      "\t\tIndividual accuracies:\n",
      "\t\t69.084\t\t68.828\t\t70.179\n",
      "\t\tOverall acc: 69.364 Std: 3.194\n",
      "ConvLSTM 64 results using 3 iterations:\n",
      "\t5-fold results:\n",
      "\t\tIndividual accuracies:\n",
      "\t\t70.107\t\t69.969\t\t71.198\n",
      "\t\tOverall acc: 70.425 Std: 3.949\n",
      "ConvLSTM 128 results using 3 iterations:\n",
      "\t5-fold results:\n",
      "\t\tIndividual accuracies:\n",
      "\t\t70.538\t\t69.873\t\t70.156\n",
      "\t\tOverall acc: 70.189 Std: 3.053\n"
     ]
    }
   ],
   "source": [
    "conv_lstm = load_pickle('../results', 'conv_lstm_five.pickle')\n",
    "display_results(conv_lstm)"
   ],
   "metadata": {
    "collapsed": false,
    "ExecuteTime": {
     "end_time": "2023-06-20T22:23:33.535941200Z",
     "start_time": "2023-06-20T22:23:33.520639Z"
    }
   }
  },
  {
   "cell_type": "code",
   "execution_count": 53,
   "outputs": [
    {
     "name": "stdout",
     "output_type": "stream",
     "text": [
      "LSTM 16 results using 3 iterations:\n",
      "\t5-fold results:\n",
      "\t\tIndividual accuracies:\n",
      "\t\t63.532\t\t63.013\t\t64.605\n",
      "\t\tOverall acc: 63.717 Std: 2.980\n",
      "\t10-fold results:\n",
      "\t\tIndividual accuracies:\n",
      "\t\t66.443\t\t65.470\t\t65.227\n",
      "\t\tOverall acc: 65.714 Std: 5.471\n",
      "LSTM 32 results using 3 iterations:\n",
      "\t5-fold results:\n",
      "\t\tIndividual accuracies:\n",
      "\t\t65.961\t\t62.909\t\t64.555\n",
      "\t\tOverall acc: 64.475 Std: 4.241\n",
      "\t10-fold results:\n",
      "\t\tIndividual accuracies:\n",
      "\t\t66.528\t\t66.098\t\t66.334\n",
      "\t\tOverall acc: 66.320 Std: 5.530\n",
      "LSTM 64 results using 3 iterations:\n",
      "\t5-fold results:\n",
      "\t\tIndividual accuracies:\n",
      "\t\t66.716\t\t64.577\t\t65.503\n",
      "\t\tOverall acc: 65.599 Std: 3.182\n",
      "\t10-fold results:\n",
      "\t\tIndividual accuracies:\n",
      "\t\t66.975\t\t67.066\t\t67.880\n",
      "\t\tOverall acc: 67.307 Std: 4.924\n",
      "LSTM 128 results using 3 iterations:\n",
      "\t5-fold results:\n",
      "\t\tIndividual accuracies:\n",
      "\t\t66.766\t\t66.618\t\t66.644\n",
      "\t\tOverall acc: 66.676 Std: 3.729\n",
      "\t10-fold results:\n",
      "\t\tIndividual accuracies:\n",
      "\t\t68.730\t\t67.212\t\t68.432\n",
      "\t\tOverall acc: 68.125 Std: 6.457\n"
     ]
    }
   ],
   "source": [
    "conv_lstm = load_pickle('../results', 'lstm.pickle')\n",
    "display_results(conv_lstm)"
   ],
   "metadata": {
    "collapsed": false,
    "ExecuteTime": {
     "end_time": "2023-06-21T08:52:43.040963700Z",
     "start_time": "2023-06-21T08:52:43.003535100Z"
    }
   }
  },
  {
   "cell_type": "code",
   "execution_count": null,
   "outputs": [],
   "source": [],
   "metadata": {
    "collapsed": false
   }
  }
 ],
 "metadata": {
  "kernelspec": {
   "display_name": "Python 3",
   "language": "python",
   "name": "python3"
  },
  "language_info": {
   "codemirror_mode": {
    "name": "ipython",
    "version": 2
   },
   "file_extension": ".py",
   "mimetype": "text/x-python",
   "name": "python",
   "nbconvert_exporter": "python",
   "pygments_lexer": "ipython2",
   "version": "2.7.6"
  }
 },
 "nbformat": 4,
 "nbformat_minor": 0
}
